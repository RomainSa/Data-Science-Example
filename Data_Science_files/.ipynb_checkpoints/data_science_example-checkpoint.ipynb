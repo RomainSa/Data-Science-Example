{
 "metadata": {
  "name": ""
 },
 "nbformat": 3,
 "nbformat_minor": 0,
 "worksheets": [
  {
   "cells": [
    {
     "cell_type": "heading",
     "level": 1,
     "metadata": {},
     "source": [
      "Introduction & Objective\n"
     ]
    },
    {
     "cell_type": "markdown",
     "metadata": {},
     "source": [
      "Zalora is a online fashion retailer. We have hundreds of thousands of products accross all of our ventures -\n",
      "Singapore, Indonesia, Malaysia, Hong Kong, Thailand, Philippines, Vietnam, Brunei, Australia and New Zealand.\n",
      "One of our challenging problems, is to determine which products are better than others, essentially a venturewide\n",
      "ranking for all of its products. The ranking can be different for each different product category / subcategory.\n",
      "The result of this ranking serves a lot of purposes:\n",
      "Displaying best selling products on our homepage.\n",
      "Sorting our catalogs / search results whenever users surf our homepage.\n",
      "Sending better, more profitable email campaigns."
     ]
    },
    {
     "cell_type": "heading",
     "level": 1,
     "metadata": {},
     "source": [
      "Dataset"
     ]
    },
    {
     "cell_type": "markdown",
     "metadata": {},
     "source": [
      "(Attached as a single products.csv file) Luckily, our Data Engineering team has done a lot of data cleaning and\n",
      "aggregation to produce everything in a clearly formatted table. The given data set contains 4000 Indonesia\n",
      "products and their metadatas that are currently available on our store, sorted by a random order.\n",
      "[Notice: a large part of this was randomized since it contains confidential information]"
     ]
    },
    {
     "cell_type": "heading",
     "level": 1,
     "metadata": {},
     "source": [
      "Questions"
     ]
    },
    {
     "cell_type": "heading",
     "level": 3,
     "metadata": {},
     "source": [
      "1) Give us your suggestions on how we could make our data set better / more useful."
     ]
    },
    {
     "cell_type": "markdown",
     "metadata": {},
     "source": [
      "First, let's import some packages, load the dataset and perform some treatments on the date:"
     ]
    },
    {
     "cell_type": "code",
     "collapsed": false,
     "input": [
      "from math import log\n",
      "from pandas import DataFrame\n",
      "from datetime import datetime\n",
      "import seaborn as sns\n",
      "from matplotlib import pyplot as plt\n",
      "import numpy as np\n",
      "%matplotlib inline\n",
      "from random import sample\n",
      "from sklearn.linear_model import Lasso\n",
      "from sklearn.ensemble import RandomForestRegressor"
     ],
     "language": "python",
     "metadata": {},
     "outputs": [],
     "prompt_number": 1
    },
    {
     "cell_type": "code",
     "collapsed": false,
     "input": [
      "dataFile = '/home/roms/Desktop/Zalora/data-science-zalora/products.csv'\n",
      "data = DataFrame.from_csv(dataFile, encoding = 'ISO-8859-1')\n",
      "data['activated_at'] = data['activated_at'].apply(lambda x : datetime.strptime(x, '%Y-%m-%d %H:%M:%S'))\n",
      "quantitative = data.select_dtypes(include=['int64', 'float64']).columns\n",
      "qualitative = data.select_dtypes(exclude=['int64', 'float64','datetime']).columns\n",
      "other_date = data.select_dtypes(include=['datetime']).columns"
     ],
     "language": "python",
     "metadata": {},
     "outputs": [],
     "prompt_number": 2
    },
    {
     "cell_type": "markdown",
     "metadata": {},
     "source": [
      "We have a dataset with:\n",
      "* 4000 observations\n",
      "* 25 columns, of which:\n",
      "    * 6 are qualitative (ex: 'brand')\n",
      "    * 18 are quantitative (ex: 'original_price')\n",
      "    * 1 is a timestamp\n",
      "* no missing data (but field 'special_price' is left empty when there is no discount)"
     ]
    },
    {
     "cell_type": "markdown",
     "metadata": {},
     "source": [
      "One thing we can do in order to improve the dataset is to calculate some indicators, such as:\n",
      "* the day of the year (1 being 1st of january) rather than a timestamp"
     ]
    },
    {
     "cell_type": "code",
     "collapsed": false,
     "input": [
      "data['day'] = data['activated_at'].apply(lambda x : x.timetuple().tm_yday)"
     ],
     "language": "python",
     "metadata": {},
     "outputs": [],
     "prompt_number": 3
    },
    {
     "cell_type": "markdown",
     "metadata": {},
     "source": [
      "* the number of views per impression for each item (%viewed)"
     ]
    },
    {
     "cell_type": "code",
     "collapsed": false,
     "input": [
      "data['%viewed'] = data['views_count']/data['impressions_count']"
     ],
     "language": "python",
     "metadata": {},
     "outputs": [],
     "prompt_number": 4
    },
    {
     "cell_type": "markdown",
     "metadata": {},
     "source": [
      "* the net number of items bought per view for each item (%bought)"
     ]
    },
    {
     "cell_type": "code",
     "collapsed": false,
     "input": [
      "data['%bought'] = (data['net_sale_count']/data['views_count'])"
     ],
     "language": "python",
     "metadata": {},
     "outputs": [],
     "prompt_number": 5
    },
    {
     "cell_type": "markdown",
     "metadata": {},
     "source": [
      "* the discount rate for each item (%discount)"
     ]
    },
    {
     "cell_type": "code",
     "collapsed": false,
     "input": [
      "data['special_price'] = data[['special_price','original_price']].min(axis=1)\n",
      "data['%discount'] = (1-data['special_price']/data['original_price'])"
     ],
     "language": "python",
     "metadata": {},
     "outputs": [],
     "prompt_number": 6
    },
    {
     "cell_type": "markdown",
     "metadata": {},
     "source": [
      "* the rate of return and cancellation for each sale (%cancel_reject)"
     ]
    },
    {
     "cell_type": "code",
     "collapsed": false,
     "input": [
      "data['%cancel_reject'] = 1-data['net_sale_count']/(data['net_sale_count']+data['rejected_returned_sale_count']+data['canceled_sale_count'])"
     ],
     "language": "python",
     "metadata": {},
     "outputs": [],
     "prompt_number": 7
    },
    {
     "cell_type": "markdown",
     "metadata": {},
     "source": [
      "We can then visualize some interesting facts. For example here are the 10 most returned/cancelled colors (the average being the red line):"
     ]
    },
    {
     "cell_type": "code",
     "collapsed": false,
     "input": [
      "rejection_per_color = 1-(data[['colors', 'net_sale_count']].groupby('colors').sum().sum(axis=1)/data[['colors', 'net_sale_count', 'rejected_returned_sale_count', 'canceled_sale_count']].groupby('colors').sum().sum(axis=1))\n",
      "r = rejection_per_color.order(ascending=False).head(10)\n",
      "plt.barh(np.arange(len(r)), r.values, align='center', alpha=0.4)\n",
      "plt.yticks(np.arange(len(r)), r.index)\n",
      "plt.axvline(x=0.6, color='r')\n",
      "plt.title('10 highests rates of rejection+cancellation per color')"
     ],
     "language": "python",
     "metadata": {},
     "outputs": [
      {
       "metadata": {},
       "output_type": "pyout",
       "prompt_number": 8,
       "text": [
        "<matplotlib.text.Text at 0x7f4a917ea240>"
       ]
      },
      {
       "metadata": {},
       "output_type": "display_data",
       "png": "[encoded data removed]",
       "text": [
        "<matplotlib.figure.Figure at 0x7f4a918317b8>"
       ]
      }
     ],
     "prompt_number": 8
    },
    {
     "cell_type": "markdown",
     "metadata": {},
     "source": [
      "Another way to improve the dataset is to use external data. In particular, weather data is useful in clothing retailing.\n",
      "We could add, for a given day, the temperature, precipitation level, or the comparison with normal seasonal levels. "
     ]
    },
    {
     "cell_type": "heading",
     "level": 3,
     "metadata": {},
     "source": [
      "2) With the given dataset, can you come up with a scientific approach and model for our ranking?"
     ]
    },
    {
     "cell_type": "markdown",
     "metadata": {},
     "source": [
      "In order to order our observations, we need a score. Let's consider the following:"
     ]
    },
    {
     "cell_type": "markdown",
     "metadata": {},
     "source": [
      "$$score_{item} = \\log( \\frac{\\sum_{item}MIN(special\\_price ; original\\_price) * net\\_sales}{\\sum_{item} views\\_count} )$$"
     ]
    },
    {
     "cell_type": "markdown",
     "metadata": {},
     "source": [
      "Which is the net revenue per impression. We use the log in order to get more dispersion in the data."
     ]
    },
    {
     "cell_type": "markdown",
     "metadata": {},
     "source": [
      "We then calculate the score, along with the score on the last 7 and 30 days, plus the std deviation of those 3 scores:"
     ]
    },
    {
     "cell_type": "code",
     "collapsed": false,
     "input": [
      "data['score'] = (data[['special_price','original_price']].min(axis=1)*data['net_sale_count']/data['impressions_count']).apply(log)\n",
      "\n",
      "data['score_30'] = (data['special_price']*data['net_sale_count_last_30days']/data['impressions_count_last_30days'])\n",
      "score_30_mean = data['score_30'][data['score_30'] < float('Inf')].mean()\n",
      "data['score_30'] = data['score_30'].apply(lambda x : x if x < float('Inf') else score_30_mean).apply(log)\n",
      "\n",
      "data['score_7'] = (data['special_price']*data['net_sale_count_last_7days']/data['impressions_count_last_7days'])\n",
      "score_7_mean = data['score_7'][data['score_7'] < float('Inf')].mean()\n",
      "data['score_7'] = data['score_7'].apply(lambda x : x if x < float('inf') else score_7_mean)\n",
      "data['score_7'][data['score_7'] == 0] = data['score_30'][data['score_7'] == 0]\n",
      "data['score_7'] = data['score_7'].apply(log)\n",
      "\n",
      "data['score_std'] = data[['score','score_7','score_30']].std(axis=1);"
     ],
     "language": "python",
     "metadata": {},
     "outputs": [],
     "prompt_number": 10
    },
    {
     "cell_type": "markdown",
     "metadata": {},
     "source": [
      "The distribution of the score is the following:"
     ]
    },
    {
     "cell_type": "code",
     "collapsed": false,
     "input": [
      "plt.hist(data['score'].values, bins = 10)\n",
      "plt.title('Histogram of the score')"
     ],
     "language": "python",
     "metadata": {},
     "outputs": [
      {
       "metadata": {},
       "output_type": "pyout",
       "prompt_number": 11,
       "text": [
        "<matplotlib.text.Text at 0x7f4a916eaa20>"
       ]
      },
      {
       "metadata": {},
       "output_type": "display_data",
       "png": "[encoded data removed]",
       "text": [
        "<matplotlib.figure.Figure at 0x7f4a918239e8>"
       ]
      }
     ],
     "prompt_number": 11
    },
    {
     "cell_type": "markdown",
     "metadata": {},
     "source": [
      "The distribution seems pretty close to a normal one."
     ]
    },
    {
     "cell_type": "markdown",
     "metadata": {},
     "source": [
      "Now let's try to model the score.\n",
      "First we need to turn our categorical variables ('brand'...) into column of 0/1 values:"
     ]
    },
    {
     "cell_type": "code",
     "collapsed": false,
     "input": [
      "labels=[]\n",
      "for col in qualitative:\n",
      "    l = data[col].value_counts().order(ascending = False).index.tolist()[:-1]\n",
      "    for label in l:\n",
      "        data[label] = (data[col] == label)*1\n",
      "        labels.append(label)"
     ],
     "language": "python",
     "metadata": {},
     "outputs": [],
     "prompt_number": 12
    },
    {
     "cell_type": "markdown",
     "metadata": {},
     "source": [
      "Now let's pick our features. \n",
      "We will use all the previously created one, and quantitative data such as the price, %discount..."
     ]
    },
    {
     "cell_type": "code",
     "collapsed": false,
     "input": [
      "features = labels + ['original_price', 'special_price', '%discount', 'day', 'score_7', 'score_30', 'score_std']\n",
      "X = data[features]\n",
      "mu, sigma = X.mean(), X.std()\n",
      "X = (X-mu)/sigma # normalization of the data\n",
      "y = data['score']"
     ],
     "language": "python",
     "metadata": {},
     "outputs": [],
     "prompt_number": 13
    },
    {
     "cell_type": "heading",
     "level": 3,
     "metadata": {},
     "source": [
      "3) How would you test, train, and evaluate your model?"
     ]
    },
    {
     "cell_type": "markdown",
     "metadata": {},
     "source": [
      "We split our dataset into a training set (80% of the data) and a test set (20%)."
     ]
    },
    {
     "cell_type": "code",
     "collapsed": false,
     "input": [
      "test = sample(set(data.index), int(0.20*len(y)))\n",
      "training = list(set(data.index)-set(test))"
     ],
     "language": "python",
     "metadata": {},
     "outputs": [],
     "prompt_number": 14
    },
    {
     "cell_type": "markdown",
     "metadata": {},
     "source": [
      "Now let's use those features and train a regression model using random forests:"
     ]
    },
    {
     "cell_type": "code",
     "collapsed": false,
     "input": [
      "clf = RandomForestRegressor()\n",
      "clf = clf.fit(X.loc[training], y.loc[training])"
     ],
     "language": "python",
     "metadata": {},
     "outputs": [],
     "prompt_number": 15
    },
    {
     "cell_type": "markdown",
     "metadata": {},
     "source": [
      "Let's try to predict the scores on the test set:"
     ]
    },
    {
     "cell_type": "code",
     "collapsed": false,
     "input": [
      "data['predictionsRF'] = clf.predict(X);"
     ],
     "language": "python",
     "metadata": {},
     "outputs": [],
     "prompt_number": 20
    },
    {
     "cell_type": "markdown",
     "metadata": {},
     "source": [
      "Now, let's compare the ranking we got on the test set ('rank_model') set with the actual one ('rank_real'):"
     ]
    },
    {
     "cell_type": "code",
     "collapsed": false,
     "input": [
      "data['rank_real'] = data['score']\n",
      "data['rank_model'] = data['predictionsRF']\n",
      "data['rank_real'].loc[test] = data['score'].loc[test].rank(ascending = False)\n",
      "data['rank_model'].loc[test] = data['predictionsRF'].loc[test].rank(ascending = False)\n",
      "data[['rank_model','predictionsRF', 'rank_real','score']].loc[test][data['rank_model'].loc[test]<=10].sort('rank_model')"
     ],
     "language": "python",
     "metadata": {},
     "outputs": [
      {
       "html": [
        "<div style=\"max-height:1000px;max-width:1500px;overflow:auto;\">\n",
        "<table border=\"1\" class=\"dataframe\">\n",
        "  <thead>\n",
        "    <tr style=\"text-align: right;\">\n",
        "      <th></th>\n",
        "      <th>rank_model</th>\n",
        "      <th>predictionsRF</th>\n",
        "      <th>rank_real</th>\n",
        "      <th>score</th>\n",
        "    </tr>\n",
        "    <tr>\n",
        "      <th>product_id</th>\n",
        "      <th></th>\n",
        "      <th></th>\n",
        "      <th></th>\n",
        "      <th></th>\n",
        "    </tr>\n",
        "  </thead>\n",
        "  <tbody>\n",
        "    <tr>\n",
        "      <th>879239</th>\n",
        "      <td>  1</td>\n",
        "      <td> 8.471613</td>\n",
        "      <td>  2</td>\n",
        "      <td> 10.152595</td>\n",
        "    </tr>\n",
        "    <tr>\n",
        "      <th>889036</th>\n",
        "      <td>  2</td>\n",
        "      <td> 8.435106</td>\n",
        "      <td>  1</td>\n",
        "      <td> 10.916467</td>\n",
        "    </tr>\n",
        "    <tr>\n",
        "      <th>883028</th>\n",
        "      <td>  3</td>\n",
        "      <td> 8.223858</td>\n",
        "      <td> 32</td>\n",
        "      <td>  7.971915</td>\n",
        "    </tr>\n",
        "    <tr>\n",
        "      <th>651925</th>\n",
        "      <td>  4</td>\n",
        "      <td> 8.156814</td>\n",
        "      <td> 21</td>\n",
        "      <td>  8.144761</td>\n",
        "    </tr>\n",
        "    <tr>\n",
        "      <th>881856</th>\n",
        "      <td>  5</td>\n",
        "      <td> 8.130035</td>\n",
        "      <td>  4</td>\n",
        "      <td>  8.863287</td>\n",
        "    </tr>\n",
        "    <tr>\n",
        "      <th>884123</th>\n",
        "      <td>  6</td>\n",
        "      <td> 8.109877</td>\n",
        "      <td> 11</td>\n",
        "      <td>  8.385713</td>\n",
        "    </tr>\n",
        "    <tr>\n",
        "      <th>643491</th>\n",
        "      <td>  7</td>\n",
        "      <td> 8.098532</td>\n",
        "      <td>  5</td>\n",
        "      <td>  8.578641</td>\n",
        "    </tr>\n",
        "    <tr>\n",
        "      <th>651439</th>\n",
        "      <td>  8</td>\n",
        "      <td> 8.063161</td>\n",
        "      <td> 10</td>\n",
        "      <td>  8.475313</td>\n",
        "    </tr>\n",
        "    <tr>\n",
        "      <th>879284</th>\n",
        "      <td>  9</td>\n",
        "      <td> 8.027332</td>\n",
        "      <td> 14</td>\n",
        "      <td>  8.314014</td>\n",
        "    </tr>\n",
        "    <tr>\n",
        "      <th>642347</th>\n",
        "      <td> 10</td>\n",
        "      <td> 7.985213</td>\n",
        "      <td> 26</td>\n",
        "      <td>  8.045734</td>\n",
        "    </tr>\n",
        "  </tbody>\n",
        "</table>\n",
        "</div>"
       ],
       "metadata": {},
       "output_type": "pyout",
       "prompt_number": 49,
       "text": [
        "            rank_model  predictionsRF  rank_real      score\n",
        "product_id                                                 \n",
        "879239               1       8.471613          2  10.152595\n",
        "889036               2       8.435106          1  10.916467\n",
        "883028               3       8.223858         32   7.971915\n",
        "651925               4       8.156814         21   8.144761\n",
        "881856               5       8.130035          4   8.863287\n",
        "884123               6       8.109877         11   8.385713\n",
        "643491               7       8.098532          5   8.578641\n",
        "651439               8       8.063161         10   8.475313\n",
        "879284               9       8.027332         14   8.314014\n",
        "642347              10       7.985213         26   8.045734"
       ]
      }
     ],
     "prompt_number": 49
    },
    {
     "cell_type": "markdown",
     "metadata": {},
     "source": [
      "We can see that the model is performing reasonnably well on the test set."
     ]
    },
    {
     "cell_type": "markdown",
     "metadata": {},
     "source": [
      "Now let's imagine that we would like to recommend 10 items to a Female customer looking for a black dress \n",
      "during summer. The recommendations would ve the following:"
     ]
    },
    {
     "cell_type": "code",
     "collapsed": false,
     "input": [
      "user = X[(X['black'] > 0 ) & (X['Female'] > 0) & (X['Dresses'] > 0) & (X['Spring / Summer'] > 0)]\n",
      "recommendations = DataFrame(clf.predict(user), index = user.index)[0]\n",
      "recommendations = recommendations.order(ascending = False).head(10).index\n",
      "data[qualitative.tolist() + ['score', 'predictionsRF']].loc[recommendations]"
     ],
     "language": "python",
     "metadata": {},
     "outputs": [
      {
       "html": [
        "<div style=\"max-height:1000px;max-width:1500px;overflow:auto;\">\n",
        "<table border=\"1\" class=\"dataframe\">\n",
        "  <thead>\n",
        "    <tr style=\"text-align: right;\">\n",
        "      <th></th>\n",
        "      <th>colors</th>\n",
        "      <th>gender</th>\n",
        "      <th>season_group</th>\n",
        "      <th>brand</th>\n",
        "      <th>sub_cat_type</th>\n",
        "      <th>cat_type</th>\n",
        "      <th>score</th>\n",
        "      <th>predictionsRF</th>\n",
        "    </tr>\n",
        "    <tr>\n",
        "      <th>product_id</th>\n",
        "      <th></th>\n",
        "      <th></th>\n",
        "      <th></th>\n",
        "      <th></th>\n",
        "      <th></th>\n",
        "      <th></th>\n",
        "      <th></th>\n",
        "      <th></th>\n",
        "    </tr>\n",
        "  </thead>\n",
        "  <tbody>\n",
        "    <tr>\n",
        "      <th>879236</th>\n",
        "      <td> black</td>\n",
        "      <td> Female</td>\n",
        "      <td> Spring / Summer</td>\n",
        "      <td>          Lola Skye</td>\n",
        "      <td> Dresses</td>\n",
        "      <td> Apparel and Accessories</td>\n",
        "      <td> 7.253794</td>\n",
        "      <td> 7.557819</td>\n",
        "    </tr>\n",
        "    <tr>\n",
        "      <th>875224</th>\n",
        "      <td> black</td>\n",
        "      <td> Female</td>\n",
        "      <td> Spring / Summer</td>\n",
        "      <td>             ZALORA</td>\n",
        "      <td> Dresses</td>\n",
        "      <td> Apparel and Accessories</td>\n",
        "      <td> 7.469794</td>\n",
        "      <td> 7.384612</td>\n",
        "    </tr>\n",
        "    <tr>\n",
        "      <th>642325</th>\n",
        "      <td> black</td>\n",
        "      <td> Female</td>\n",
        "      <td> Spring / Summer</td>\n",
        "      <td> Something Borrowed</td>\n",
        "      <td> Dresses</td>\n",
        "      <td> Apparel and Accessories</td>\n",
        "      <td> 7.383134</td>\n",
        "      <td> 7.376071</td>\n",
        "    </tr>\n",
        "    <tr>\n",
        "      <th>875221</th>\n",
        "      <td> black</td>\n",
        "      <td> Female</td>\n",
        "      <td> Spring / Summer</td>\n",
        "      <td>             ZALORA</td>\n",
        "      <td> Dresses</td>\n",
        "      <td> Apparel and Accessories</td>\n",
        "      <td> 7.276299</td>\n",
        "      <td> 7.246061</td>\n",
        "    </tr>\n",
        "    <tr>\n",
        "      <th>270376</th>\n",
        "      <td> black</td>\n",
        "      <td> Female</td>\n",
        "      <td> Spring / Summer</td>\n",
        "      <td>               Mint</td>\n",
        "      <td> Dresses</td>\n",
        "      <td> Apparel and Accessories</td>\n",
        "      <td> 7.097857</td>\n",
        "      <td> 7.115752</td>\n",
        "    </tr>\n",
        "    <tr>\n",
        "      <th>274397</th>\n",
        "      <td> black</td>\n",
        "      <td> Female</td>\n",
        "      <td> Spring / Summer</td>\n",
        "      <td>              Mango</td>\n",
        "      <td> Dresses</td>\n",
        "      <td> Apparel and Accessories</td>\n",
        "      <td> 7.141375</td>\n",
        "      <td> 6.987426</td>\n",
        "    </tr>\n",
        "    <tr>\n",
        "      <th>283079</th>\n",
        "      <td> black</td>\n",
        "      <td> Female</td>\n",
        "      <td> Spring / Summer</td>\n",
        "      <td>          Dei Reich</td>\n",
        "      <td> Dresses</td>\n",
        "      <td> Apparel and Accessories</td>\n",
        "      <td> 6.815274</td>\n",
        "      <td> 6.975325</td>\n",
        "    </tr>\n",
        "    <tr>\n",
        "      <th>642295</th>\n",
        "      <td> black</td>\n",
        "      <td> Female</td>\n",
        "      <td> Spring / Summer</td>\n",
        "      <td> Something Borrowed</td>\n",
        "      <td> Dresses</td>\n",
        "      <td> Apparel and Accessories</td>\n",
        "      <td> 6.998081</td>\n",
        "      <td> 6.937949</td>\n",
        "    </tr>\n",
        "    <tr>\n",
        "      <th>375830</th>\n",
        "      <td> black</td>\n",
        "      <td> Female</td>\n",
        "      <td> Spring / Summer</td>\n",
        "      <td>     Noir Sur Blanc</td>\n",
        "      <td> Dresses</td>\n",
        "      <td> Apparel and Accessories</td>\n",
        "      <td> 7.065513</td>\n",
        "      <td> 6.929591</td>\n",
        "    </tr>\n",
        "    <tr>\n",
        "      <th>540035</th>\n",
        "      <td> black</td>\n",
        "      <td> Female</td>\n",
        "      <td> Spring / Summer</td>\n",
        "      <td>     EZRA by ZALORA</td>\n",
        "      <td> Dresses</td>\n",
        "      <td> Apparel and Accessories</td>\n",
        "      <td> 6.875475</td>\n",
        "      <td> 6.861785</td>\n",
        "    </tr>\n",
        "  </tbody>\n",
        "</table>\n",
        "</div>"
       ],
       "metadata": {},
       "output_type": "pyout",
       "prompt_number": 50,
       "text": [
        "           colors  gender     season_group               brand sub_cat_type  \\\n",
        "product_id                                                                    \n",
        "879236      black  Female  Spring / Summer           Lola Skye      Dresses   \n",
        "875224      black  Female  Spring / Summer              ZALORA      Dresses   \n",
        "642325      black  Female  Spring / Summer  Something Borrowed      Dresses   \n",
        "875221      black  Female  Spring / Summer              ZALORA      Dresses   \n",
        "270376      black  Female  Spring / Summer                Mint      Dresses   \n",
        "274397      black  Female  Spring / Summer               Mango      Dresses   \n",
        "283079      black  Female  Spring / Summer           Dei Reich      Dresses   \n",
        "642295      black  Female  Spring / Summer  Something Borrowed      Dresses   \n",
        "375830      black  Female  Spring / Summer      Noir Sur Blanc      Dresses   \n",
        "540035      black  Female  Spring / Summer      EZRA by ZALORA      Dresses   \n",
        "\n",
        "                           cat_type     score  predictionsRF  \n",
        "product_id                                                    \n",
        "879236      Apparel and Accessories  7.253794       7.557819  \n",
        "875224      Apparel and Accessories  7.469794       7.384612  \n",
        "642325      Apparel and Accessories  7.383134       7.376071  \n",
        "875221      Apparel and Accessories  7.276299       7.246061  \n",
        "270376      Apparel and Accessories  7.097857       7.115752  \n",
        "274397      Apparel and Accessories  7.141375       6.987426  \n",
        "283079      Apparel and Accessories  6.815274       6.975325  \n",
        "642295      Apparel and Accessories  6.998081       6.937949  \n",
        "375830      Apparel and Accessories  7.065513       6.929591  \n",
        "540035      Apparel and Accessories  6.875475       6.861785  "
       ]
      }
     ],
     "prompt_number": 50
    },
    {
     "cell_type": "markdown",
     "metadata": {},
     "source": [
      "Which seeems like a reasonnable choice too."
     ]
    }
   ],
   "metadata": {}
  }
 ]
}