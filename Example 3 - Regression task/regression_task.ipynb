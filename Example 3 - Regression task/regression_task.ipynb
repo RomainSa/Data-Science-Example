{
 "cells": [
  {
   "cell_type": "markdown",
   "metadata": {},
   "source": [
    "# Nubank puzzle"
   ]
  },
  {
   "cell_type": "markdown",
   "metadata": {},
   "source": [
    "First, we import some data mungling librairies (pandas) and Machine Learning ones (Sci-kit learn)"
   ]
  },
  {
   "cell_type": "code",
   "execution_count": 1,
   "metadata": {
    "collapsed": false
   },
   "outputs": [],
   "source": [
    "import pandas as pd\n",
    "from matplotlib import pyplot as plt\n",
    "%matplotlib inline\n",
    "from sklearn.cross_validation import train_test_split\n",
    "from sklearn.preprocessing import scale\n",
    "from sklearn.linear_model import LinearRegression\n",
    "from sklearn.ensemble import RandomForestRegressor\n",
    "from sklearn.decomposition import PCA\n",
    "from keras.models import Sequential\n",
    "from keras.layers.core import Dense, Dropout, Activation\n",
    "from keras.optimizers import SGD"
   ]
  },
  {
   "cell_type": "markdown",
   "metadata": {},
   "source": [
    "Import data, output a sample and some basic descriptive statistics"
   ]
  },
  {
   "cell_type": "code",
   "execution_count": 112,
   "metadata": {
    "collapsed": false
   },
   "outputs": [
    {
     "name": "stdout",
     "output_type": "stream",
     "text": [
      "(19980, 3447)\n",
      "(24976, 3447)\n"
     ]
    },
    {
     "data": {
      "text/html": [
       "<div>\n",
       "<table border=\"1\" class=\"dataframe\">\n",
       "  <thead>\n",
       "    <tr style=\"text-align: right;\">\n",
       "      <th></th>\n",
       "      <th>016399044a</th>\n",
       "      <th>0342faceb5</th>\n",
       "      <th>04e7268385</th>\n",
       "      <th>06888ceac9</th>\n",
       "      <th>072b7e8f27</th>\n",
       "      <th>087235d61e</th>\n",
       "      <th>0b846350ef</th>\n",
       "      <th>0e2ab0831c</th>\n",
       "      <th>12eda2d982</th>\n",
       "      <th>136c1727c3</th>\n",
       "      <th>...</th>\n",
       "      <th>f1f0984934_f998066a90c44ebaa81909283fbf40c3</th>\n",
       "      <th>f1f0984934_f9fe603636e510fc34a6b89a2f9bd4c4</th>\n",
       "      <th>f1f0984934_fb6b6ade46b055ef0602ecdfd94e820b</th>\n",
       "      <th>f1f0984934_fbc4cbec142638584e4f7f1b49ab47d7</th>\n",
       "      <th>f1f0984934_fc7dbaea61fe56ebffe46118badf13d6</th>\n",
       "      <th>f1f0984934_fd687ed31958a22f80e48865e669987e</th>\n",
       "      <th>f1f0984934_fdbb9c71cd26e9f0bc3785b7fb06f832</th>\n",
       "      <th>f1f0984934_fdec0cd88b9867464d4b71fda6527580</th>\n",
       "      <th>f1f0984934_feb95c74f95f7ff875033e97b74696a8</th>\n",
       "      <th>f1f0984934_ff379e29df01e7fe2ed635a3d1f2a782</th>\n",
       "    </tr>\n",
       "    <tr>\n",
       "      <th>id</th>\n",
       "      <th></th>\n",
       "      <th></th>\n",
       "      <th></th>\n",
       "      <th></th>\n",
       "      <th></th>\n",
       "      <th></th>\n",
       "      <th></th>\n",
       "      <th></th>\n",
       "      <th></th>\n",
       "      <th></th>\n",
       "      <th></th>\n",
       "      <th></th>\n",
       "      <th></th>\n",
       "      <th></th>\n",
       "      <th></th>\n",
       "      <th></th>\n",
       "      <th></th>\n",
       "      <th></th>\n",
       "      <th></th>\n",
       "      <th></th>\n",
       "      <th></th>\n",
       "    </tr>\n",
       "  </thead>\n",
       "  <tbody>\n",
       "    <tr>\n",
       "      <th>21241</th>\n",
       "      <td>6592</td>\n",
       "      <td>5260</td>\n",
       "      <td>35675</td>\n",
       "      <td>0</td>\n",
       "      <td>1832.381442</td>\n",
       "      <td>73</td>\n",
       "      <td>0.929599</td>\n",
       "      <td>-2.465505</td>\n",
       "      <td>52.908262</td>\n",
       "      <td>4.287155</td>\n",
       "      <td>...</td>\n",
       "      <td>0</td>\n",
       "      <td>0</td>\n",
       "      <td>0</td>\n",
       "      <td>0</td>\n",
       "      <td>0</td>\n",
       "      <td>0</td>\n",
       "      <td>0</td>\n",
       "      <td>0</td>\n",
       "      <td>0</td>\n",
       "      <td>0</td>\n",
       "    </tr>\n",
       "    <tr>\n",
       "      <th>12425</th>\n",
       "      <td>6566</td>\n",
       "      <td>5242</td>\n",
       "      <td>35831</td>\n",
       "      <td>1</td>\n",
       "      <td>120.812960</td>\n",
       "      <td>72</td>\n",
       "      <td>-0.226931</td>\n",
       "      <td>-0.005248</td>\n",
       "      <td>20.526949</td>\n",
       "      <td>2.051884</td>\n",
       "      <td>...</td>\n",
       "      <td>0</td>\n",
       "      <td>0</td>\n",
       "      <td>0</td>\n",
       "      <td>0</td>\n",
       "      <td>0</td>\n",
       "      <td>0</td>\n",
       "      <td>0</td>\n",
       "      <td>0</td>\n",
       "      <td>0</td>\n",
       "      <td>0</td>\n",
       "    </tr>\n",
       "    <tr>\n",
       "      <th>5853</th>\n",
       "      <td>6473</td>\n",
       "      <td>5326</td>\n",
       "      <td>35842</td>\n",
       "      <td>1</td>\n",
       "      <td>418.747316</td>\n",
       "      <td>52</td>\n",
       "      <td>-0.314785</td>\n",
       "      <td>-4.333559</td>\n",
       "      <td>57.050953</td>\n",
       "      <td>1.734797</td>\n",
       "      <td>...</td>\n",
       "      <td>0</td>\n",
       "      <td>0</td>\n",
       "      <td>0</td>\n",
       "      <td>0</td>\n",
       "      <td>0</td>\n",
       "      <td>0</td>\n",
       "      <td>0</td>\n",
       "      <td>0</td>\n",
       "      <td>0</td>\n",
       "      <td>0</td>\n",
       "    </tr>\n",
       "    <tr>\n",
       "      <th>13922</th>\n",
       "      <td>6411</td>\n",
       "      <td>5484</td>\n",
       "      <td>36175</td>\n",
       "      <td>1</td>\n",
       "      <td>331.914979</td>\n",
       "      <td>43</td>\n",
       "      <td>8.526870</td>\n",
       "      <td>-33.038138</td>\n",
       "      <td>37.646190</td>\n",
       "      <td>2.476461</td>\n",
       "      <td>...</td>\n",
       "      <td>0</td>\n",
       "      <td>0</td>\n",
       "      <td>0</td>\n",
       "      <td>0</td>\n",
       "      <td>0</td>\n",
       "      <td>0</td>\n",
       "      <td>0</td>\n",
       "      <td>0</td>\n",
       "      <td>0</td>\n",
       "      <td>0</td>\n",
       "    </tr>\n",
       "    <tr>\n",
       "      <th>5671</th>\n",
       "      <td>6388</td>\n",
       "      <td>5371</td>\n",
       "      <td>35747</td>\n",
       "      <td>1</td>\n",
       "      <td>145.677053</td>\n",
       "      <td>74</td>\n",
       "      <td>1.222959</td>\n",
       "      <td>-0.352194</td>\n",
       "      <td>85.185072</td>\n",
       "      <td>1.516256</td>\n",
       "      <td>...</td>\n",
       "      <td>0</td>\n",
       "      <td>0</td>\n",
       "      <td>0</td>\n",
       "      <td>0</td>\n",
       "      <td>0</td>\n",
       "      <td>0</td>\n",
       "      <td>0</td>\n",
       "      <td>0</td>\n",
       "      <td>0</td>\n",
       "      <td>0</td>\n",
       "    </tr>\n",
       "  </tbody>\n",
       "</table>\n",
       "<p>5 rows × 3447 columns</p>\n",
       "</div>"
      ],
      "text/plain": [
       "       016399044a  0342faceb5  04e7268385  06888ceac9   072b7e8f27  \\\n",
       "id                                                                   \n",
       "21241        6592        5260       35675           0  1832.381442   \n",
       "12425        6566        5242       35831           1   120.812960   \n",
       "5853         6473        5326       35842           1   418.747316   \n",
       "13922        6411        5484       36175           1   331.914979   \n",
       "5671         6388        5371       35747           1   145.677053   \n",
       "\n",
       "       087235d61e  0b846350ef  0e2ab0831c  12eda2d982  136c1727c3  \\\n",
       "id                                                                  \n",
       "21241          73    0.929599   -2.465505   52.908262    4.287155   \n",
       "12425          72   -0.226931   -0.005248   20.526949    2.051884   \n",
       "5853           52   -0.314785   -4.333559   57.050953    1.734797   \n",
       "13922          43    8.526870  -33.038138   37.646190    2.476461   \n",
       "5671           74    1.222959   -0.352194   85.185072    1.516256   \n",
       "\n",
       "                          ...                       \\\n",
       "id                        ...                        \n",
       "21241                     ...                        \n",
       "12425                     ...                        \n",
       "5853                      ...                        \n",
       "13922                     ...                        \n",
       "5671                      ...                        \n",
       "\n",
       "       f1f0984934_f998066a90c44ebaa81909283fbf40c3  \\\n",
       "id                                                   \n",
       "21241                                            0   \n",
       "12425                                            0   \n",
       "5853                                             0   \n",
       "13922                                            0   \n",
       "5671                                             0   \n",
       "\n",
       "       f1f0984934_f9fe603636e510fc34a6b89a2f9bd4c4  \\\n",
       "id                                                   \n",
       "21241                                            0   \n",
       "12425                                            0   \n",
       "5853                                             0   \n",
       "13922                                            0   \n",
       "5671                                             0   \n",
       "\n",
       "       f1f0984934_fb6b6ade46b055ef0602ecdfd94e820b  \\\n",
       "id                                                   \n",
       "21241                                            0   \n",
       "12425                                            0   \n",
       "5853                                             0   \n",
       "13922                                            0   \n",
       "5671                                             0   \n",
       "\n",
       "       f1f0984934_fbc4cbec142638584e4f7f1b49ab47d7  \\\n",
       "id                                                   \n",
       "21241                                            0   \n",
       "12425                                            0   \n",
       "5853                                             0   \n",
       "13922                                            0   \n",
       "5671                                             0   \n",
       "\n",
       "       f1f0984934_fc7dbaea61fe56ebffe46118badf13d6  \\\n",
       "id                                                   \n",
       "21241                                            0   \n",
       "12425                                            0   \n",
       "5853                                             0   \n",
       "13922                                            0   \n",
       "5671                                             0   \n",
       "\n",
       "       f1f0984934_fd687ed31958a22f80e48865e669987e  \\\n",
       "id                                                   \n",
       "21241                                            0   \n",
       "12425                                            0   \n",
       "5853                                             0   \n",
       "13922                                            0   \n",
       "5671                                             0   \n",
       "\n",
       "       f1f0984934_fdbb9c71cd26e9f0bc3785b7fb06f832  \\\n",
       "id                                                   \n",
       "21241                                            0   \n",
       "12425                                            0   \n",
       "5853                                             0   \n",
       "13922                                            0   \n",
       "5671                                             0   \n",
       "\n",
       "       f1f0984934_fdec0cd88b9867464d4b71fda6527580  \\\n",
       "id                                                   \n",
       "21241                                            0   \n",
       "12425                                            0   \n",
       "5853                                             0   \n",
       "13922                                            0   \n",
       "5671                                             0   \n",
       "\n",
       "       f1f0984934_feb95c74f95f7ff875033e97b74696a8  \\\n",
       "id                                                   \n",
       "21241                                            0   \n",
       "12425                                            0   \n",
       "5853                                             0   \n",
       "13922                                            0   \n",
       "5671                                             0   \n",
       "\n",
       "       f1f0984934_ff379e29df01e7fe2ed635a3d1f2a782  \n",
       "id                                                  \n",
       "21241                                            0  \n",
       "12425                                            0  \n",
       "5853                                             0  \n",
       "13922                                            0  \n",
       "5671                                             0  \n",
       "\n",
       "[5 rows x 3447 columns]"
      ]
     },
     "execution_count": 112,
     "metadata": {},
     "output_type": "execute_result"
    }
   ],
   "source": [
    "# load data\n",
    "X_train = pd.read_csv('data-science-puzzle/train.csv', index_col=106)\n",
    "X_test = pd.read_csv('data-science-puzzle/test.csv', index_col=106)\n",
    "y_train = X_train.target\n",
    "X_train = X_train.drop('target', axis=1)\n",
    "\n",
    "# transforms categorical variables to binary ones\n",
    "categorical_variables = ['023c68873b', '361f93f4d1', '8d0606b150', '91145d159d', 'b835dfe10f', 'e16e640635',\\\n",
    "                         'f1f0984934']\n",
    "categorical_data = pd.concat((X_train[categorical_variables], X_test[categorical_variables]), axis=0)\n",
    "binary_data = pd.get_dummies(categorical_data)\n",
    "X_train_binary_data = binary_data.iloc[:X_train.shape[0]]\n",
    "X_test_binary_data = binary_data.iloc[X_train.shape[0]:]\n",
    "\n",
    "# drop remaining categorical variables\n",
    "X_test = X_test.drop(categorical_variables, axis=1)\n",
    "X_train = X_train.drop(categorical_variables, axis=1)\n",
    "\n",
    "# apply log transformation to non categorical variable\n",
    "X_train_log = X_train.apply(np.log)\n",
    "X_test_log = X_test.apply(np.log)\n",
    "finite_variables = X_train_log.columns[(np.isfinite(X_train_log).min(axis=0) & np.isfinite(X_test_log).min(axis=0))]\n",
    "X_train_log = X_train_log[finite_variables]\n",
    "X_test_log = X_test_log[finite_variables]\n",
    "X_train = pd.concat((X_train, X_train_log), axis=1)\n",
    "X_test = pd.concat((X_test, X_test_log), axis=1)\n",
    "\n",
    "# add binarized categorical variables\n",
    "X_train = pd.concat((X_train, X_train_binary_data), axis=1)\n",
    "X_test = pd.concat((X_test, X_test_binary_data), axis=1)\n",
    "\n",
    "# scales data\n",
    "X_train_mean = X_train.mean(axis=0)\n",
    "X_train_std = X_train.std(axis=0)\n",
    "y_train_mean = y_train.mean(axis=0)\n",
    "y_train_std = y_train.std(axis=0)\n",
    "\n",
    "# splits train data into train and validation datasets\n",
    "X_train, X_val, y_train, y_val = train_test_split(X_train, y_train, train_size=0.80, random_state=42)\n",
    "\n",
    "X_train_scaled = X_train.apply(lambda x: (x-X_train_mean) / X_train_std, axis=1)\n",
    "X_val_scaled = X_val.apply(lambda x: (x-X_train_mean) / X_train_std, axis=1)\n",
    "y_train_scaled = (y_train-y_train_mean) / y_train_std\n",
    "y_val_scaled = (y_val-y_train_mean) / y_train_std\n",
    "\n",
    "# print a sample\n",
    "print(X_train.shape)\n",
    "print(X_test.shape)\n",
    "X_train.iloc[:5]"
   ]
  },
  {
   "cell_type": "markdown",
   "metadata": {},
   "source": [
    "Creates R^2 and Mean Square Error functions to measure error"
   ]
  },
  {
   "cell_type": "code",
   "execution_count": 113,
   "metadata": {
    "collapsed": true
   },
   "outputs": [],
   "source": [
    "def MSE(y, y_pred):\n",
    "    \"\"\"\n",
    "    Computes the Mean Squared Error of predictions\n",
    "    \"\"\"\n",
    "    mse = (y-y_pred).pow(2).sum()/len(y)\n",
    "    return mse\n",
    "\n",
    "def R2(y, y_pred):\n",
    "    \"\"\"\n",
    "    Computes the coefficient of determination\n",
    "    \"\"\"\n",
    "    SSres = (y-y_pred).pow(2).sum()\n",
    "    SStot = (y-y.mean()).pow(2).sum()\n",
    "    R2 = 1 - SSReg/SST\n",
    "    return R2"
   ]
  },
  {
   "cell_type": "markdown",
   "metadata": {},
   "source": [
    "### Descriptive statistics"
   ]
  },
  {
   "cell_type": "markdown",
   "metadata": {},
   "source": [
    "We output some basic statistics on both training and test datasets"
   ]
  },
  {
   "cell_type": "code",
   "execution_count": 82,
   "metadata": {
    "collapsed": false
   },
   "outputs": [
    {
     "data": {
      "text/plain": [
       "<matplotlib.axes._subplots.AxesSubplot at 0x10b364cf8>"
      ]
     },
     "execution_count": 82,
     "metadata": {},
     "output_type": "execute_result"
    },
    {
     "data": {
      "image/png": "[encoded data removed]",
      "text/plain": [
       "<matplotlib.figure.Figure at 0x159638550>"
      ]
     },
     "metadata": {},
     "output_type": "display_data"
    }
   ],
   "source": [
    "pd.concat((y_train, y_val), axis=0).hist(bins=50)"
   ]
  },
  {
   "cell_type": "code",
   "execution_count": 17,
   "metadata": {
    "collapsed": false
   },
   "outputs": [
    {
     "data": {
      "image/png": "[encoded data removed]",
      "text/plain": [
       "<matplotlib.figure.Figure at 0x104331e80>"
      ]
     },
     "metadata": {},
     "output_type": "display_data"
    },
    {
     "data": {
      "image/png": "[encoded data removed]",
      "text/plain": [
       "<matplotlib.figure.Figure at 0x2602508d0>"
      ]
     },
     "metadata": {},
     "output_type": "display_data"
    },
    {
     "data": {
      "image/png": "[encoded data removed]",
      "text/plain": [
       "<matplotlib.figure.Figure at 0x159638be0>"
      ]
     },
     "metadata": {},
     "output_type": "display_data"
    },
    {
     "data": {
      "image/png": "[encoded data removed]",
      "text/plain": [
       "<matplotlib.figure.Figure at 0x10c6056d8>"
      ]
     },
     "metadata": {},
     "output_type": "display_data"
    },
    {
     "data": {
      "image/png": "[encoded data removed]",
      "text/plain": [
       "<matplotlib.figure.Figure at 0x10c6363c8>"
      ]
     },
     "metadata": {},
     "output_type": "display_data"
    },
    {
     "data": {
      "image/png": "[encoded data removed]",
      "text/plain": [
       "<matplotlib.figure.Figure at 0x10c60aa90>"
      ]
     },
     "metadata": {},
     "output_type": "display_data"
    },
    {
     "data": {
      "image/png": "[encoded data removed]",
      "text/plain": [
       "<matplotlib.figure.Figure at 0x10b354b70>"
      ]
     },
     "metadata": {},
     "output_type": "display_data"
    },
    {
     "data": {
      "image/png": "[encoded data removed]",
      "text/plain": [
       "<matplotlib.figure.Figure at 0x10c579860>"
      ]
     },
     "metadata": {},
     "output_type": "display_data"
    },
    {
     "data": {
      "image/png": "[encoded data removed]",
      "text/plain": [
       "<matplotlib.figure.Figure at 0x159633048>"
      ]
     },
     "metadata": {},
     "output_type": "display_data"
    },
    {
     "data": {
      "image/png": "[encoded data removed]",
      "text/plain": [
       "<matplotlib.figure.Figure at 0x10c606400>"
      ]
     },
     "metadata": {},
     "output_type": "display_data"
    }
   ],
   "source": [
    "for col in X_train.columns[:10]:\n",
    "    X_test[col].hist()\n",
    "    X_train[col].hist()\n",
    "    plt.show()"
   ]
  },
  {
   "cell_type": "code",
   "execution_count": 21,
   "metadata": {
    "collapsed": false
   },
   "outputs": [
    {
     "data": {
      "text/plain": [
       "<matplotlib.axes._subplots.AxesSubplot at 0x25f90ccf8>"
      ]
     },
     "execution_count": 21,
     "metadata": {},
     "output_type": "execute_result"
    },
    {
     "data": {
      "image/png": "[encoded data removed]",
      "text/plain": [
       "<matplotlib.figure.Figure at 0x10c641b70>"
      ]
     },
     "metadata": {},
     "output_type": "display_data"
    }
   ],
   "source": [
    "import numpy as np\n",
    "X_test[X_train.columns[4]].apply(np.log).hist()\n"
   ]
  },
  {
   "cell_type": "markdown",
   "metadata": {},
   "source": [
    "We will use three models:\n",
    "    - a Linear Regression\n",
    "    - a Random Forest regression\n",
    "    - a Neural Network with stochastic gradient descent\n",
    "    \n",
    "We will not use any dimension reduction technique (PCA, autoencoders...) since the size of the dataset is still managable on a laptop."
   ]
  },
  {
   "cell_type": "markdown",
   "metadata": {},
   "source": [
    "### Dimension Reduction"
   ]
  },
  {
   "cell_type": "code",
   "execution_count": 86,
   "metadata": {
    "collapsed": false
   },
   "outputs": [
    {
     "name": "stdout",
     "output_type": "stream",
     "text": [
      "0.82378205138\n"
     ]
    }
   ],
   "source": [
    "pca = PCA(n_components=60)\n",
    "pca.fit(X_train_scaled)\n",
    "print(sum(pca.explained_variance_ratio_))"
   ]
  },
  {
   "cell_type": "code",
   "execution_count": 87,
   "metadata": {
    "collapsed": true
   },
   "outputs": [],
   "source": [
    "X_train_scaled_reduced = pca.transform(X_train_scaled)\n",
    "X_val_scaled_reduced = pca.transform(X_val_scaled)"
   ]
  },
  {
   "cell_type": "markdown",
   "metadata": {},
   "source": [
    "### Linear Regression"
   ]
  },
  {
   "cell_type": "markdown",
   "metadata": {},
   "source": [
    "Fit a linear regression on the data"
   ]
  },
  {
   "cell_type": "code",
   "execution_count": 88,
   "metadata": {
    "collapsed": false
   },
   "outputs": [
    {
     "data": {
      "text/plain": [
       "LinearRegression(copy_X=True, fit_intercept=True, n_jobs=1, normalize=False)"
      ]
     },
     "execution_count": 88,
     "metadata": {},
     "output_type": "execute_result"
    }
   ],
   "source": [
    "lr = LinearRegression(fit_intercept=True)\n",
    "lr.fit(X_train_scaled, y_train_scaled)"
   ]
  },
  {
   "cell_type": "code",
   "execution_count": 89,
   "metadata": {
    "collapsed": false
   },
   "outputs": [
    {
     "name": "stdout",
     "output_type": "stream",
     "text": [
      "3.460385934391223\n",
      "5.520964520993325\n"
     ]
    }
   ],
   "source": [
    "lr_predictions_train_scaled = lr.predict(X_train_scaled)\n",
    "lr_predictions_train = (lr_predictions_train_scaled * y_train_std + y_train_mean).ravel()\n",
    "print(MSE(y_train, lr_predictions_train))\n",
    "lr_predictions_val_scaled = lr.predict(X_val_scaled)\n",
    "lr_predictions_val = (lr_predictions_val_scaled * y_train_std + y_train_mean).ravel()\n",
    "print(MSE(y_val, lr_predictions_val))"
   ]
  },
  {
   "cell_type": "code",
   "execution_count": 133,
   "metadata": {
    "collapsed": false
   },
   "outputs": [
    {
     "name": "stdout",
     "output_type": "stream",
     "text": [
      "2.276637315592737\n",
      "3.685433346758918\n"
     ]
    }
   ],
   "source": [
    "from sklearn.linear_model import Ridge \n",
    "\n",
    "lr = Ridge(alpha=1000.0)\n",
    "lr.fit(X_train_scaled, y_train_scaled)\n",
    "\n",
    "lr_predictions_train_scaled = lr.predict(X_train_scaled)\n",
    "lr_predictions_train = (lr_predictions_train_scaled * y_train_std + y_train_mean).ravel()\n",
    "print(MSE(y_train, lr_predictions_train))\n",
    "lr_predictions_val_scaled = lr.predict(X_val_scaled)\n",
    "lr_predictions_val = (lr_predictions_val_scaled * y_train_std + y_train_mean).ravel()\n",
    "print(MSE(y_val, lr_predictions_val))"
   ]
  },
  {
   "cell_type": "code",
   "execution_count": 131,
   "metadata": {
    "collapsed": false
   },
   "outputs": [
    {
     "name": "stdout",
     "output_type": "stream",
     "text": [
      "4.9209896367578825\n",
      "5.655911382571438\n"
     ]
    }
   ],
   "source": [
    "from sklearn.linear_model import ElasticNet \n",
    "\n",
    "lr = ElasticNet(alpha=10.0, l1_ratio=0.75)\n",
    "lr.fit(X_train_scaled, y_train_scaled)\n",
    "\n",
    "lr_predictions_train_scaled = lr.predict(X_train_scaled)\n",
    "lr_predictions_train = (lr_predictions_train_scaled * y_train_std + y_train_mean).ravel()\n",
    "print(MSE(y_train, lr_predictions_train))\n",
    "lr_predictions_val_scaled = lr.predict(X_val_scaled)\n",
    "lr_predictions_val = (lr_predictions_val_scaled * y_train_std + y_train_mean).ravel()\n",
    "print(MSE(y_val, lr_predictions_val))"
   ]
  },
  {
   "cell_type": "code",
   "execution_count": 108,
   "metadata": {
    "collapsed": false
   },
   "outputs": [
    {
     "name": "stdout",
     "output_type": "stream",
     "text": [
      "3.8520588965741034\n",
      "4.474073829377753\n"
     ]
    }
   ],
   "source": [
    "from sklearn.linear_model import Ridge \n",
    "\n",
    "lr = Ridge(alpha=100.)\n",
    "lr.fit(X_train_scaled_reduced, y_train_scaled)\n",
    "\n",
    "lr_predictions_train_scaled = lr.predict(X_train_scaled_reduced)\n",
    "lr_predictions_train = (lr_predictions_train_scaled * y_train_std + y_train_mean).ravel()\n",
    "print(MSE(y_train, lr_predictions_train))\n",
    "lr_predictions_val_scaled = lr.predict(X_val_scaled_reduced)\n",
    "lr_predictions_val = (lr_predictions_val_scaled * y_train_std + y_train_mean).ravel()\n",
    "print(MSE(y_val, lr_predictions_val))"
   ]
  },
  {
   "cell_type": "markdown",
   "metadata": {},
   "source": [
    "### Random Forest regressor"
   ]
  },
  {
   "cell_type": "code",
   "execution_count": 110,
   "metadata": {
    "collapsed": false
   },
   "outputs": [],
   "source": [
    "score_train = []\n",
    "score_val = []\n",
    "max_depths = list(range(1, 11))\n",
    "for max_depth_ in max_depths:\n",
    "    rf = RandomForestRegressor(n_estimators=10, max_depth=max_depth_)\n",
    "    rf.fit(X_train, y_train)\n",
    "    score_train.append(MSE(y_train, rf.predict(X_train)))\n",
    "    score_val.append(MSE(y_val, rf.predict(X_val)))"
   ]
  },
  {
   "cell_type": "code",
   "execution_count": 111,
   "metadata": {
    "collapsed": false
   },
   "outputs": [
    {
     "data": {
      "text/plain": [
       "[<matplotlib.lines.Line2D at 0x10ae03c50>]"
      ]
     },
     "execution_count": 111,
     "metadata": {},
     "output_type": "execute_result"
    },
    {
     "data": {
      "image/png": "[encoded data removed]",
      "text/plain": [
       "<matplotlib.figure.Figure at 0x10ae03940>"
      ]
     },
     "metadata": {},
     "output_type": "display_data"
    }
   ],
   "source": [
    "plt.plot(max_depths, score_train)\n",
    "plt.plot(max_depths, score_val)"
   ]
  },
  {
   "cell_type": "code",
   "execution_count": 109,
   "metadata": {
    "collapsed": false
   },
   "outputs": [
    {
     "ename": "NameError",
     "evalue": "name 'X_train_reduced' is not defined",
     "output_type": "error",
     "traceback": [
      "\u001b[0;31m---------------------------------------------------------------------------\u001b[0m",
      "\u001b[0;31mNameError\u001b[0m                                 Traceback (most recent call last)",
      "\u001b[0;32m<ipython-input-109-0f935bd83c7c>\u001b[0m in \u001b[0;36m<module>\u001b[0;34m()\u001b[0m\n\u001b[1;32m      1\u001b[0m \u001b[0mrf\u001b[0m \u001b[0;34m=\u001b[0m \u001b[0mRandomForestRegressor\u001b[0m\u001b[0;34m(\u001b[0m\u001b[0mn_estimators\u001b[0m\u001b[0;34m=\u001b[0m\u001b[0;36m10\u001b[0m\u001b[0;34m,\u001b[0m \u001b[0mmax_depth\u001b[0m\u001b[0;34m=\u001b[0m\u001b[0;36m5\u001b[0m\u001b[0;34m)\u001b[0m\u001b[0;34m\u001b[0m\u001b[0m\n\u001b[0;32m----> 2\u001b[0;31m \u001b[0mrf\u001b[0m\u001b[0;34m.\u001b[0m\u001b[0mfit\u001b[0m\u001b[0;34m(\u001b[0m\u001b[0mX_train_reduced\u001b[0m\u001b[0;34m,\u001b[0m \u001b[0my_train\u001b[0m\u001b[0;34m)\u001b[0m\u001b[0;34m\u001b[0m\u001b[0m\n\u001b[0m\u001b[1;32m      3\u001b[0m \u001b[0mprint\u001b[0m\u001b[0;34m(\u001b[0m\u001b[0mMSE\u001b[0m\u001b[0;34m(\u001b[0m\u001b[0my_train\u001b[0m\u001b[0;34m,\u001b[0m \u001b[0mrf\u001b[0m\u001b[0;34m.\u001b[0m\u001b[0mpredict\u001b[0m\u001b[0;34m(\u001b[0m\u001b[0mX_train_reduced\u001b[0m\u001b[0;34m)\u001b[0m\u001b[0;34m)\u001b[0m\u001b[0;34m)\u001b[0m\u001b[0;34m\u001b[0m\u001b[0m\n\u001b[1;32m      4\u001b[0m \u001b[0mprint\u001b[0m\u001b[0;34m(\u001b[0m\u001b[0mMSE\u001b[0m\u001b[0;34m(\u001b[0m\u001b[0my_val\u001b[0m\u001b[0;34m,\u001b[0m \u001b[0mrf\u001b[0m\u001b[0;34m.\u001b[0m\u001b[0mpredict\u001b[0m\u001b[0;34m(\u001b[0m\u001b[0mX_val_reduced\u001b[0m\u001b[0;34m)\u001b[0m\u001b[0;34m)\u001b[0m\u001b[0;34m)\u001b[0m\u001b[0;34m\u001b[0m\u001b[0m\n",
      "\u001b[0;31mNameError\u001b[0m: name 'X_train_reduced' is not defined"
     ]
    }
   ],
   "source": [
    "rf = RandomForestRegressor(n_estimators=10, max_depth=5)\n",
    "rf.fit(X_train_reduced, y_train)\n",
    "print(MSE(y_train, rf.predict(X_train_reduced)))\n",
    "print(MSE(y_val, rf.predict(X_val_reduced)))"
   ]
  },
  {
   "cell_type": "markdown",
   "metadata": {},
   "source": [
    "### Neural network"
   ]
  },
  {
   "cell_type": "code",
   "execution_count": 144,
   "metadata": {
    "collapsed": false
   },
   "outputs": [
    {
     "name": "stdout",
     "output_type": "stream",
     "text": [
      "Epoch 1/2\n",
      "19980/19980 [==============================] - 43s - loss: 1.4440    \n",
      "Epoch 2/2\n",
      "19980/19980 [==============================] - 44s - loss: 1.3511    \n"
     ]
    },
    {
     "data": {
      "text/plain": [
       "<keras.callbacks.History at 0x12791c550>"
      ]
     },
     "execution_count": 144,
     "metadata": {},
     "output_type": "execute_result"
    }
   ],
   "source": [
    "nn = Sequential()\n",
    "\"\"\"\n",
    "# without categorical variables: 3.9\n",
    "nn.add(Dense(input_dim=X_train_scaled.shape[1], output_dim=1024, init='uniform', activation='relu'))\n",
    "nn.add(Dropout(0.5))\n",
    "nn.add(Dense(input_dim=1024, output_dim=1024, init='uniform', activation='relu'))\n",
    "nn.add(Dropout(0.5))\n",
    "nn.add(Dense(input_dim=1024, output_dim=1, init='uniform', activation='linear'))\n",
    "\"\"\"\n",
    "\n",
    "nn.add(Dense(input_dim=X_train_scaled.shape[1], output_dim=2048, init='uniform', activation='relu'))\n",
    "nn.add(Dropout(0.5))\n",
    "nn.add(Dense(input_dim=2048, output_dim=2048, init='uniform', activation='relu'))\n",
    "nn.add(Dropout(0.5))\n",
    "nn.add(Dense(input_dim=2048, output_dim=1, init='uniform', activation='linear'))\n",
    "\n",
    "\"\"\"\n",
    "nn.add(Dense(input_dim=99, output_dim=1, init='zero', activation='linear'))\n",
    "\"\"\"\n",
    "\n",
    "sgd = SGD(lr=0.0001, decay=1e-6, momentum=0., nesterov=False)\n",
    "nn.compile(loss='mean_squared_error', optimizer=sgd)\n",
    "\n",
    "nn.fit(X_train_scaled.values, y_train_scaled.values, nb_epoch=2, batch_size=128)"
   ]
  },
  {
   "cell_type": "code",
   "execution_count": 141,
   "metadata": {
    "collapsed": false
   },
   "outputs": [
    {
     "name": "stdout",
     "output_type": "stream",
     "text": [
      "4996/4996 [==============================] - 1s     \n",
      "0.989619544352\n"
     ]
    }
   ],
   "source": [
    "objective_score = nn.evaluate(X_val_scaled.values, y_val_scaled.values, batch_size=128)\n",
    "print(objective_score)"
   ]
  },
  {
   "cell_type": "code",
   "execution_count": 142,
   "metadata": {
    "collapsed": false
   },
   "outputs": [
    {
     "name": "stdout",
     "output_type": "stream",
     "text": [
      "5.015582707158902\n"
     ]
    }
   ],
   "source": [
    "nn_predictions_scaled = nn.predict(X_val_scaled.values)\n",
    "nn_predictions = (nn_predictions_scaled * y_train_std + y_train_mean).ravel()\n",
    "print(MSE(y_val, nn_predictions))"
   ]
  },
  {
   "cell_type": "code",
   "execution_count": 49,
   "metadata": {
    "collapsed": false
   },
   "outputs": [
    {
     "data": {
      "text/plain": [
       "array([[ 1.1848242 ],\n",
       "       [-0.01878066],\n",
       "       [ 1.58171142],\n",
       "       ..., \n",
       "       [ 1.95762783],\n",
       "       [ 2.76860658],\n",
       "       [ 1.68961748]])"
      ]
     },
     "execution_count": 49,
     "metadata": {},
     "output_type": "execute_result"
    }
   ],
   "source": [
    "predictions"
   ]
  },
  {
   "cell_type": "code",
   "execution_count": null,
   "metadata": {
    "collapsed": true
   },
   "outputs": [],
   "source": []
  }
 ],
 "metadata": {
  "kernelspec": {
   "display_name": "Python 3",
   "language": "python",
   "name": "python3"
  },
  "language_info": {
   "codemirror_mode": {
    "name": "ipython",
    "version": 3
   },
   "file_extension": ".py",
   "mimetype": "text/x-python",
   "name": "python",
   "nbconvert_exporter": "python",
   "pygments_lexer": "ipython3",
   "version": "3.4.3"
  }
 },
 "nbformat": 4,
 "nbformat_minor": 0
}
